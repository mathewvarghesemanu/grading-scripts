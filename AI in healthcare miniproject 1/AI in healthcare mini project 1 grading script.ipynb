{
 "cells": [
  {
   "cell_type": "code",
   "execution_count": null,
   "id": "7d57ff6a",
   "metadata": {},
   "outputs": [],
   "source": [
    "#Created by Mathew Varghese (ECE PMP 2021-2023)"
   ]
  },
  {
   "cell_type": "code",
   "execution_count": 156,
   "id": "5816d3b9",
   "metadata": {},
   "outputs": [
    {
     "name": "stdout",
     "output_type": "stream",
     "text": [
      "Enter the marks stringQ1: 30, Q2: 5, Q3: 10+10 (-5- anomalies not plottted), Q4: 8(-2- differences not discussed), Q5: 4(-1 - accuracy <80%), Q6: 5(-5- Low accuracy, model not working properly), Q7: 40, Q8: 7(-3- table of performances not found), Q9: (-15- Question not answered), Q10: (-10- Explanation not about interpretability) Kaggle:(-3-kaggle score not above baseline)\n"
     ]
    }
   ],
   "source": [
    "astring=input(\"Enter the marks string\")\n",
    "# astring=\"Q1: 30, Q2: 5+5, Q3: 10+5+10+10, Q4: 10, Q5: 5, Q6: 10, Q7: 40, Q8: 10, Q9: 15, Q10: 10 Kaggle:0\""
   ]
  },
  {
   "cell_type": "code",
   "execution_count": 157,
   "id": "777fec21",
   "metadata": {},
   "outputs": [],
   "source": [
    "import re"
   ]
  },
  {
   "cell_type": "code",
   "execution_count": 158,
   "id": "449458b9",
   "metadata": {},
   "outputs": [
    {
     "name": "stdout",
     "output_type": "stream",
     "text": [
      "[30, 5, 10, 10, 8, 4, 5, 40, 7, -3]\n",
      "Total:116\n"
     ]
    }
   ],
   "source": [
    "re_string=re.findall(r':\\s*\\d+|\\+\\d+|-3-k',astring)\n",
    "re_string_cleaned=list(map(lambda a:a.replace(\"+\",\"\"),re_string))\n",
    "re_string_cleaned=list(map(lambda a:a.replace(\":\",\"\"),re_string_cleaned))\n",
    "re_string_cleaned=list(map(lambda a:a.replace(\" \",\"\"),re_string_cleaned))\n",
    "re_string_cleaned=list(map(lambda a:a.replace(\"-k\",\"\"),re_string_cleaned))\n",
    "re_string_cleaned=list(map(lambda a:int(a),re_string_cleaned))\n",
    "\n",
    "print(re_string_cleaned)\n",
    "total=sum(re_string_cleaned)\n",
    "print(f\"Total:{total}\")"
   ]
  },
  {
   "cell_type": "code",
   "execution_count": null,
   "id": "2d417a4d",
   "metadata": {},
   "outputs": [],
   "source": []
  },
  {
   "cell_type": "code",
   "execution_count": null,
   "id": "19ed72f2",
   "metadata": {},
   "outputs": [],
   "source": []
  }
 ],
 "metadata": {
  "kernelspec": {
   "display_name": "Python 3 (ipykernel)",
   "language": "python",
   "name": "python3"
  },
  "language_info": {
   "codemirror_mode": {
    "name": "ipython",
    "version": 3
   },
   "file_extension": ".py",
   "mimetype": "text/x-python",
   "name": "python",
   "nbconvert_exporter": "python",
   "pygments_lexer": "ipython3",
   "version": "3.9.7"
  }
 },
 "nbformat": 4,
 "nbformat_minor": 5
}
